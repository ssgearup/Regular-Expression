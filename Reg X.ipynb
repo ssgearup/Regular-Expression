{
 "cells": [
  {
   "cell_type": "markdown",
   "metadata": {},
   "source": [
    "# Reg x"
   ]
  },
  {
   "cell_type": "code",
   "execution_count": 1,
   "metadata": {},
   "outputs": [],
   "source": [
    "import re"
   ]
  },
  {
   "cell_type": "raw",
   "metadata": {},
   "source": [
    "# For regular expressions there is a set of meta characters\n",
    "\n",
    ". - it will match with any character be it digit, alphabet, special character except new line\n",
    "[a-zA-Z] - char class, will match with lowercase char and upper char, a or b or c....or z, A or B or C...or Z\n",
    "[0-9] - digit class, will match with digits, match with one digit\n",
    "+ - atleast one [a-z]+\n",
    "* - zero or more\n",
    "^ - start of the string\n",
    "$ - end of the string\n",
    "?  - optional\n",
    "[a-z]{2,4} - min 2 char and max 4\n",
    "\n"
   ]
  },
  {
   "cell_type": "code",
   "execution_count": 2,
   "metadata": {},
   "outputs": [
    {
     "name": "stdout",
     "output_type": "stream",
     "text": [
      "['ABCDE1234A']\n"
     ]
    }
   ],
   "source": [
    "# Q -Determine Pan No?\n",
    "s= \"ABCDE1234A\"\n",
    "r= re.compile(\"[A-Z]{5}[0-9]{4}[A-Z]\")\n",
    "l= re.findall(r,s) # first should be r then s  # findall method will search for all the occurences in the pattern\n",
    "print(l)\n"
   ]
  },
  {
   "cell_type": "code",
   "execution_count": 3,
   "metadata": {},
   "outputs": [
    {
     "name": "stdout",
     "output_type": "stream",
     "text": [
      "[]\n"
     ]
    }
   ],
   "source": [
    "s= \"ABCDE12344444A\"\n",
    "r= re.compile(\"[A-Z]{5}[0-9]{4}[A-Z]\")\n",
    "l= re.findall(r,s)\n",
    "print(l)"
   ]
  },
  {
   "cell_type": "code",
   "execution_count": 4,
   "metadata": {},
   "outputs": [
    {
     "name": "stdout",
     "output_type": "stream",
     "text": [
      "['ABCDE1234A']\n",
      "[]\n"
     ]
    }
   ],
   "source": [
    "#How to correct this statement\n",
    "s= \"AAAAAAAAAABCDE1234A\" # not a valid pan\n",
    "r= re.compile(\"[A-Z]{5}[0-9]{4}[A-Z]\")\n",
    "l= re.findall(r,s)\n",
    "print(l)\n",
    "\n",
    "s= \"AAAAAAAAAABCDE1234A\"\n",
    "r= re.compile(\"^[A-Z]{5}[0-9]{4}[A-Z]\") # solved through ^\n",
    "l= re.findall(r,s)\n",
    "print(l)"
   ]
  },
  {
   "cell_type": "code",
   "execution_count": 5,
   "metadata": {},
   "outputs": [
    {
     "name": "stdout",
     "output_type": "stream",
     "text": [
      "['ABCDE1234A']\n",
      "[]\n"
     ]
    }
   ],
   "source": [
    "s= \"ABCDE1234AAAAAAAAAAAAAAA\"  # not a valid pan\n",
    "r= re.compile(\"^[A-Z]{5}[0-9]{4}[A-Z]\")\n",
    "l= re.findall(r,s)\n",
    "print(l)\n",
    "\n",
    "s= \"AAAAAAAAAABCDE1234A\"   # not a valid pan\n",
    "r= re.compile(\"^[A-Z]{5}[0-9]{4}[A-Z]$\") # solved through $\n",
    "l= re.findall(r,s)\n",
    "print(l)"
   ]
  },
  {
   "cell_type": "code",
   "execution_count": 6,
   "metadata": {},
   "outputs": [
    {
     "name": "stdout",
     "output_type": "stream",
     "text": [
      "['9970123467']\n"
     ]
    }
   ],
   "source": [
    "# Phone no is correct or not\n",
    "s = \"9970123467\"\n",
    "r = re.compile(\"^[6-9][0-9]{9}$\")\n",
    "l = re.findall(r,s)\n",
    "print(l)"
   ]
  },
  {
   "cell_type": "code",
   "execution_count": 7,
   "metadata": {},
   "outputs": [
    {
     "data": {
      "text/plain": [
       "['12-05-1996']"
      ]
     },
     "execution_count": 7,
     "metadata": {},
     "output_type": "execute_result"
    }
   ],
   "source": [
    "# dd - mm - yyyy\n",
    "\n",
    "s= \"12-05-1996\"\n",
    "r = re.compile(\"^[0-9]{2}-[0-9]{2}-[0-9]{4}$\")\n",
    "l = re.findall(r,s)\n",
    "l"
   ]
  },
  {
   "cell_type": "code",
   "execution_count": 8,
   "metadata": {},
   "outputs": [
    {
     "data": {
      "text/plain": [
       "<re.Match object; span=(0, 10), match='12-05-1996'>"
      ]
     },
     "execution_count": 8,
     "metadata": {},
     "output_type": "execute_result"
    }
   ],
   "source": [
    "# search method\n",
    "s= \"12-05-1996\"\n",
    "r = re.compile(\"^[0-9]{2}-[0-9]{2}-[0-9]{4}$\")\n",
    "m = re.search(r,s)\n",
    "m"
   ]
  },
  {
   "cell_type": "code",
   "execution_count": 9,
   "metadata": {},
   "outputs": [
    {
     "name": "stdout",
     "output_type": "stream",
     "text": [
      "None\n"
     ]
    }
   ],
   "source": [
    "s= \"12-05-199\" # faulty line\n",
    "r = re.compile(\"^[0-9]{2}-[0-9]{2}-[0-9]{4}$\")\n",
    "m = re.search(r,s)\n",
    "print(m)"
   ]
  },
  {
   "cell_type": "code",
   "execution_count": 10,
   "metadata": {},
   "outputs": [
    {
     "name": "stdout",
     "output_type": "stream",
     "text": [
      "12-05-1996\n"
     ]
    }
   ],
   "source": [
    "# showing entire match\n",
    "s= \"12-05-1996\"\n",
    "r = re.compile(\"^[0-9]{2}-[0-9]{2}-[0-9]{4}$\")\n",
    "m = re.search(r,s)\n",
    "print(m.group())  # groups will help to extract individual element of data from string. Types of groups -  (1. GROUPS)"
   ]
  },
  {
   "cell_type": "code",
   "execution_count": 11,
   "metadata": {},
   "outputs": [
    {
     "name": "stdout",
     "output_type": "stream",
     "text": [
      "12-05-1996\n",
      "12\n",
      "05\n",
      "1996\n"
     ]
    }
   ],
   "source": [
    "s= \"12-05-1996\"\n",
    "r = re.compile(\"^([0-9]{2})-([0-9]{2})-([0-9]{4})$\")\n",
    "m = re.search(r,s)\n",
    "print(m.group(0)) # (2. NAMED GROUPS)\n",
    "\n",
    "\n",
    "s= \"12-05-1996\"\n",
    "r = re.compile(\"^([0-9]{2})-([0-9]{2})-([0-9]{4})$\")\n",
    "m = re.search(r,s)\n",
    "print(m.group(1))\n",
    "\n",
    "\n",
    "s= \"12-05-1996\"\n",
    "r = re.compile(\"^([0-9]{2})-([0-9]{2})-([0-9]{4})$\")\n",
    "m = re.search(r,s)\n",
    "print(m.group(2))\n",
    "\n",
    "\n",
    "s= \"12-05-1996\"\n",
    "r = re.compile(\"^([0-9]{2})-([0-9]{2})-([0-9]{4})$\")\n",
    "m = re.search(r,s)\n",
    "print(m.group(3))"
   ]
  },
  {
   "cell_type": "code",
   "execution_count": 13,
   "metadata": {},
   "outputs": [
    {
     "name": "stdout",
     "output_type": "stream",
     "text": [
      "12\n",
      "05\n",
      "1996\n"
     ]
    }
   ],
   "source": [
    "# usinng name method\n",
    "s= \"12-05-1996\"\n",
    "r = re.compile(\"^(?P<date>[0-9]{2})-(?P<month>[0-9]{2})-(?P<year>[0-9]{4})$\")\n",
    "m = re.search(r,s)\n",
    "if m:\n",
    "    print(m.group(\"date\"))\n",
    "else:\n",
    "    print(\"Pattern not found\")\n",
    "\n",
    "\n",
    "s= \"12-05-1996\"\n",
    "r = re.compile(\"^(?P<date>[0-9]{2})-(?P<month>[0-9]{2})-(?P<year>[0-9]{4})$\")\n",
    "m = re.search(r,s)\n",
    "if m:\n",
    "    print(m.group(\"month\"))\n",
    "else:\n",
    "    print(\"Pattern not found\")\n",
    "\n",
    "\n",
    "\n",
    "\n",
    "s= \"12-05-1996\"\n",
    "r = re.compile(\"^(?P<date>[0-9]{2})-(?P<month>[0-9]{2})-(?P<year>[0-9]{4})$\")\n",
    "m = re.search(r,s)\n",
    "if m:\n",
    "    print(m.group(\"year\"))\n",
    "else:\n",
    "    print(\"Pattern not found\")"
   ]
  },
  {
   "cell_type": "code",
   "execution_count": 18,
   "metadata": {},
   "outputs": [
    {
     "name": "stdout",
     "output_type": "stream",
     "text": [
      "+91 9970123467\n"
     ]
    }
   ],
   "source": [
    "s = \"+91 9970123467\"\n",
    "r = re.compile(\"(\\+91)?\\s[6-9][0-9]{9}$\") # \\s it will match up with the space\n",
    "m = re.search(r,s)                       # without '\\' before +, will lead to error because + will considered as atleast \n",
    "                                         # one char\n",
    "\n",
    "if m:\n",
    "    print(m.group())\n",
    "else:\n",
    "    print(\"Patttern not found\")"
   ]
  },
  {
   "cell_type": "code",
   "execution_count": 20,
   "metadata": {},
   "outputs": [
    {
     "name": "stdout",
     "output_type": "stream",
     "text": [
      "+91 9970123467\n",
      "9970123467\n"
     ]
    }
   ],
   "source": [
    "s = \"+91 9970123467\"\n",
    "r = re.compile(\"(\\+91\\s)?[6-9][0-9]{9}$\") \n",
    "m = re.search(r,s)                       \n",
    "\n",
    "if m:\n",
    "    print(m.group())\n",
    "else:\n",
    "    print(\"Patttern not found\")\n",
    "    \n",
    "# without +91  \n",
    "s = \"9970123467\"\n",
    "r = re.compile(\"(\\+91\\s)?[6-9][0-9]{9}$\") \n",
    "m = re.search(r,s)                       \n",
    "\n",
    "if m:\n",
    "    print(m.group())\n",
    "else:\n",
    "    print(\"Patttern not found\")"
   ]
  },
  {
   "cell_type": "code",
   "execution_count": 27,
   "metadata": {},
   "outputs": [
    {
     "name": "stdout",
     "output_type": "stream",
     "text": [
      "+91 9970123467\n",
      "9970123467\n"
     ]
    }
   ],
   "source": [
    "# 3. (Non capturing groups) ?:\n",
    "s = \"+91 9970123467\"\n",
    "r = re.compile(\"(?:\\+91\\s)?[6-9][0-9]{9}$\") \n",
    "m = re.search(r,s)                       \n",
    "\n",
    "if m:\n",
    "    print(m.group(0))\n",
    "else:\n",
    "    print(\"Patttern not found\")\n",
    "    \n",
    "    \n",
    "\n",
    "s = \"+91 9970123467\"\n",
    "r = re.compile(\"(?:\\+91\\s)?([6-9][0-9]{9})$\") \n",
    "m = re.search(r,s)                       \n",
    "\n",
    "if m:\n",
    "    print(m.group(1))\n",
    "else:\n",
    "    print(\"Patttern not found\")"
   ]
  },
  {
   "cell_type": "code",
   "execution_count": null,
   "metadata": {},
   "outputs": [],
   "source": [
    "#Imporatant shortcuts\n",
    "[0-9] \\d\n",
    "[^0-9] \\D  #everything other than digits\n",
    "\n",
    "[a-zA-Z0-9] \\w\n",
    "\n",
    "space \\s\n",
    "\n",
    "\n"
   ]
  }
 ],
 "metadata": {
  "kernelspec": {
   "display_name": "Python 3",
   "language": "python",
   "name": "python3"
  },
  "language_info": {
   "codemirror_mode": {
    "name": "ipython",
    "version": 3
   },
   "file_extension": ".py",
   "mimetype": "text/x-python",
   "name": "python",
   "nbconvert_exporter": "python",
   "pygments_lexer": "ipython3",
   "version": "3.8.5"
  }
 },
 "nbformat": 4,
 "nbformat_minor": 4
}
